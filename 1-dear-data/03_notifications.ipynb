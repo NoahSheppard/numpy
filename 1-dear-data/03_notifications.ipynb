{
 "cells": [
  {
   "cell_type": "markdown",
   "metadata": {},
   "source": [
    "# 03. Notifications 🔔\n",
    "\n",
    "Exercise link: https://www.codedex.io/numpy/03-notifications"
   ]
  },
  {
   "cell_type": "code",
   "execution_count": 1,
   "metadata": {},
   "outputs": [
    {
     "name": "stdout",
     "output_type": "stream",
     "text": [
      "[156 197 162 292 258 276 288]\n"
     ]
    }
   ],
   "source": [
    "import numpy as np\n",
    "\n",
    "notifications = np.array([156, 197, 162, 292, 258, 276, 288])\n",
    "\n",
    "print(notifications)"
   ]
  }
 ],
 "metadata": {
  "kernelspec": {
   "display_name": "Python 3",
   "language": "python",
   "name": "python3"
  },
  "language_info": {
   "codemirror_mode": {
    "name": "ipython",
    "version": 3
   },
   "file_extension": ".py",
   "mimetype": "text/x-python",
   "name": "python",
   "nbconvert_exporter": "python",
   "pygments_lexer": "ipython3",
   "version": "3.9.6"
  }
 },
 "nbformat": 4,
 "nbformat_minor": 2
}
