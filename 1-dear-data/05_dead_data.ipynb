# Dear Data 💌
# Codédex

import numpy as np

sleep = np.array([
  [7, 6.5, 7, 7, 6, 11, 0.0], 
  [0.0, 0.0, 0.0, 0.0, 0.0, 0.0, 0.0]
])

average1 = np.average(egg_carton1)
average2 = np.average(egg_carton2)
average3 = np.average(egg_carton3)

print(average1)
print(average2)
print(average3)


