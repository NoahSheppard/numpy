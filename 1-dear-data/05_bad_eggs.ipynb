{
 "cells": [
  {
   "cell_type": "markdown",
   "metadata": {},
   "source": [
    "# 05. Bad Eggs 🥚\n",
    "\n",
    "Exercise link: https://www.codedex.io/numpy/05-bad-eggs"
   ]
  },
  {
   "cell_type": "code",
   "execution_count": 2,
   "metadata": {},
   "outputs": [
    {
     "name": "stdout",
     "output_type": "stream",
     "text": [
      "[19673200 19854526]\n"
     ]
    }
   ],
   "source": [
    "import numpy as np\n",
    "\n",
    "egg_carton1 = np.array([\n",
    "    [0.89, 0.90, 0.83, 0.89, 0.97, 0.98], \n",
    "    [0.95, 0.95, 0.89, 0.95, 0.23, 0.99]\n",
    "  ])\n",
    "  \n",
    "  egg_carton2 = np.array([\n",
    "    [0.89, 0.95, 0.84, 0.92, 0.94, 0.93], \n",
    "    [0.93, 0.95, 0.02, 0.03, 0.23, 0.99]\n",
    "  ])\n",
    "  \n",
    "  egg_carton3 = np.array([\n",
    "    [0.83, 0.95, 0.89, 0.54, 0.37, 0.92], \n",
    "    [0.98, 0.99, 0.19, 0.23, 0.89, 0.91]\n",
    "  ])\n",
    "\n",
    "  average1 = np.average(egg_carton1)\n",
    "  average2 = np.average(egg_carton2)\n",
    "  average3 = np.average(egg_carton3)\n",
    "\n",
    "  print(average1)\n",
    "  print(average2)\n",
    "  print(average3)"
   ]
  }
 ],
 "metadata": {
  "kernelspec": {
   "display_name": "Python 3",
   "language": "python",
   "name": "python3"
  },
  "language_info": {
   "codemirror_mode": {
    "name": "ipython",
    "version": 3
   },
   "file_extension": ".py",
   "mimetype": "text/x-python",
   "name": "python",
   "nbconvert_exporter": "python",
   "pygments_lexer": "ipython3",
   "version": "3.9.6"
  }
 },
 "nbformat": 4,
 "nbformat_minor": 2
}
