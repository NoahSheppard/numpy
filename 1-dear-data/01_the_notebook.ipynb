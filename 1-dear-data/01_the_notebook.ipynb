{
 "cells": [
  {
   "cell_type": "code",
   "execution_count": null,
   "metadata": {},
   "outputs": [],
   "source": [
    "print('So it\\'s not gonna be easy. It\\'s gonna be really hard.')\n",
    "\n",
    "print('We\\'re gonna have to work at this everyday, but I want to do that because I want all the data, forever. You and me.')"
   ]
  }
 ],
 "metadata": {
  "language_info": {
   "name": "python"
  }
 },
 "nbformat": 4,
 "nbformat_minor": 2
}
