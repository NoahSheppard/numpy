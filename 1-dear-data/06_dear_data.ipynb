{
 "cells": [
  {
   "cell_type": "markdown",
   "metadata": {},
   "source": [
    "# 06. Dear Data 💌\n",
    "\n",
    "Exercise link: https://www.codedex.io/numpy/06-dear-data"
   ]
  },
  {
   "cell_type": "code",
   "execution_count": 1,
   "metadata": {},
   "outputs": [
    {
     "name": "stdout",
     "output_type": "stream",
     "text": [
      "3.1785714285714284\n"
     ]
    }
   ],
   "source": [
    "import numpy as np\n",
    "\n",
    "sleep = np.array([\n",
    "  [7, 6.5, 7, 7, 6, 11, 0.0], \n",
    "  [0.0, 0.0, 0.0, 0.0, 0.0, 0.0, 0.0]\n",
    "])\n",
    "\n",
    "average = np.average(sleep)\n",
    "\n",
    "print(average)"
   ]
  }
 ],
 "metadata": {
  "kernelspec": {
   "display_name": "Python 3",
   "language": "python",
   "name": "python3"
  },
  "language_info": {
   "codemirror_mode": {
    "name": "ipython",
    "version": 3
   },
   "file_extension": ".py",
   "mimetype": "text/x-python",
   "name": "python",
   "nbconvert_exporter": "python",
   "pygments_lexer": "ipython3",
   "version": "3.9.6"
  }
 },
 "nbformat": 4,
 "nbformat_minor": 2
}
