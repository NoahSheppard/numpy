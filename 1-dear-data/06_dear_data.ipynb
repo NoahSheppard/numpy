{
 "cells": [
  {
   "cell_type": "markdown",
   "metadata": {},
   "source": [
    "# 06. Dear Data 💌\n",
    "\n",
    "Exercise link: https://www.codedex.io/numpy/06-dear-data"
   ]
  },
  {
   "cell_type": "code",
   "execution_count": 16,
   "metadata": {},
   "outputs": [
    {
     "name": "stdout",
     "output_type": "stream",
     "text": [
      "My sleep average is 1.3 hours.\n",
      "My coffee intake average is 0.29 cups.\n",
      "My exercise average is 3.21 minutes.\n"
     ]
    }
   ],
   "source": [
    "import numpy as np\n",
    "\n",
    "# 4/2024 sleep (hr) 💤\n",
    "\n",
    "sleep = np.array([\n",
    "  [6.0, 6.0, 6.5, 8.0, 10.0, 0.0, 0.0], \n",
    "  [0.0, 0.0, 0.0, 0.0, 0.0, 0.0, 0.0],\n",
    "  [0.0, 0.0, 0.0, 0.0, 0.0, 0.0, 0.0],\n",
    "  [0.0, 0.0, 0.0, 0.0, 0.0, 0.0, 0.0],\n",
    "])\n",
    "\n",
    "# 4/2024 coffee (cups) ☕️\n",
    "\n",
    "coffee = np.array([\n",
    "  [1, 2, 1, 2, 1, 1, 0], \n",
    "  [0, 0, 0, 0, 0, 0, 0],\n",
    "  [0, 0, 0, 0, 0, 0, 0],\n",
    "  [0, 0, 0, 0, 0, 0, 0],\n",
    "])\n",
    "\n",
    "# 4/2024 exercise (min) 🏃\n",
    "\n",
    "exercise = np.array([\n",
    "  [0, 0, 0, 45, 0, 45, 0], \n",
    "  [0, 0, 0, 0, 0, 0, 0],\n",
    "  [0, 0, 0, 0, 0, 0, 0],\n",
    "  [0, 0, 0, 0, 0, 0, 0],\n",
    "])\n",
    "\n",
    "average1 = np.average(sleep)\n",
    "average2 = np.average(coffee)\n",
    "average3 = np.average(exercise)\n",
    "\n",
    "print(\"My sleep average is \" + str(round(average1, 2)) + \" hours.\")\n",
    "print(\"My coffee intake average is \" + str(round(average2, 2)) + \" cups.\")\n",
    "print(\"My exercise average is \" + str(round(average3, 2)) + \" minutes.\")\n"
   ]
  }
 ],
 "metadata": {
  "kernelspec": {
   "display_name": "Python 3",
   "language": "python",
   "name": "python3"
  },
  "language_info": {
   "codemirror_mode": {
    "name": "ipython",
    "version": 3
   },
   "file_extension": ".py",
   "mimetype": "text/x-python",
   "name": "python",
   "nbconvert_exporter": "python",
   "pygments_lexer": "ipython3",
   "version": "3.9.6"
  }
 },
 "nbformat": 4,
 "nbformat_minor": 2
}
