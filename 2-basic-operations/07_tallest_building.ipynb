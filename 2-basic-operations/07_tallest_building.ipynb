{
 "cells": [
  {
   "cell_type": "markdown",
   "metadata": {},
   "source": [
    "# 07. Tallest Building ☁️\n",
    "\n",
    "Exercise link: https://www.codedex.io/numpy/07-tallest-building"
   ]
  },
  {
   "cell_type": "code",
   "execution_count": 1,
   "metadata": {},
   "outputs": [
    {
     "name": "stdout",
     "output_type": "stream",
     "text": [
      "[828.1416 678.7896 631.8504 601.0656 599.2368 554.4312 541.3248]\n"
     ]
    }
   ],
   "source": [
    "import numpy as np\n",
    "\n",
    "tallest_buildings = np.array([2717, 2227, 2073, 1972, 1966, 1819, 1776])\n",
    "\n",
    "tallest_buildings_meters = tallest_buildings * 0.3048\n",
    "\n",
    "print(tallest_buildings_meters)\n"
   ]
  }
 ],
 "metadata": {
  "kernelspec": {
   "display_name": "Python 3",
   "language": "python",
   "name": "python3"
  },
  "language_info": {
   "codemirror_mode": {
    "name": "ipython",
    "version": 3
   },
   "file_extension": ".py",
   "mimetype": "text/x-python",
   "name": "python",
   "nbconvert_exporter": "python",
   "pygments_lexer": "ipython3",
   "version": "3.9.6"
  }
 },
 "nbformat": 4,
 "nbformat_minor": 2
}
