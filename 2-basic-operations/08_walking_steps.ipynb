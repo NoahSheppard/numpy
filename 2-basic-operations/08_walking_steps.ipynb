{
 "cells": [
  {
   "cell_type": "markdown",
   "metadata": {},
   "source": [
    "# 08. Walking Steps 🚶\n",
    "\n",
    "Exercise link: https://www.codedex.io/numpy/08-walking-steps"
   ]
  },
  {
   "cell_type": "code",
   "execution_count": 1,
   "metadata": {},
   "outputs": [
    {
     "name": "stdout",
     "output_type": "stream",
     "text": [
      "164\n",
      "9193\n",
      "30361\n",
      "4337.285714285715\n"
     ]
    }
   ],
   "source": [
    "import numpy as np\n",
    "\n",
    "steps = np.array([3191, 230, 9193, 4670, 164, 3820, 9093])\n",
    "\n",
    "print(np.min(steps))\n",
    "print(np.max(steps))\n",
    "print(np.sum(steps))\n",
    "print(np.average(steps))"
   ]
  }
 ],
 "metadata": {
  "kernelspec": {
   "display_name": "Python 3",
   "language": "python",
   "name": "python3"
  },
  "language_info": {
   "codemirror_mode": {
    "name": "ipython",
    "version": 3
   },
   "file_extension": ".py",
   "mimetype": "text/x-python",
   "name": "python",
   "nbconvert_exporter": "python",
   "pygments_lexer": "ipython3",
   "version": "3.9.6"
  }
 },
 "nbformat": 4,
 "nbformat_minor": 2
}
